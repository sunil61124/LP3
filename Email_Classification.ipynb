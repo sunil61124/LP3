{
 "cells": [
  {
   "cell_type": "code",
   "execution_count": 12,
   "id": "f1a3624a-d2c4-4be4-814b-4e69ea65d3d0",
   "metadata": {},
   "outputs": [],
   "source": [
    "# Import necessary libraries\n",
    "import pandas as pd\n",
    "from sklearn.model_selection import train_test_split\n",
    "from sklearn.preprocessing import StandardScaler\n",
    "from sklearn.neighbors import KNeighborsClassifier\n",
    "from sklearn.svm import SVC\n",
    "from sklearn.metrics import accuracy_score, classification_report, confusion_matrix"
   ]
  },
  {
   "cell_type": "code",
   "execution_count": 13,
   "id": "ee2168ef-3589-4ed1-a3a8-677cd53fb7a4",
   "metadata": {},
   "outputs": [],
   "source": [
    "# Load the dataset\n",
    "data = pd.read_csv('emails.csv')"
   ]
  },
  {
   "cell_type": "code",
   "execution_count": 14,
   "id": "437e35bc-a002-4de5-bd3f-3a294866ac69",
   "metadata": {},
   "outputs": [
    {
     "name": "stdout",
     "output_type": "stream",
     "text": [
      "  Email No.  the  to  ect  and  for  of    a  you  hou  ...  connevey  jay  \\\n",
      "0   Email 1    0   0    1    0    0   0    2    0    0  ...         0    0   \n",
      "1   Email 2    8  13   24    6    6   2  102    1   27  ...         0    0   \n",
      "2   Email 3    0   0    1    0    0   0    8    0    0  ...         0    0   \n",
      "3   Email 4    0   5   22    0    5   1   51    2   10  ...         0    0   \n",
      "4   Email 5    7   6   17    1    5   2   57    0    9  ...         0    0   \n",
      "\n",
      "   valued  lay  infrastructure  military  allowing  ff  dry  Prediction  \n",
      "0       0    0               0         0         0   0    0           0  \n",
      "1       0    0               0         0         0   1    0           0  \n",
      "2       0    0               0         0         0   0    0           0  \n",
      "3       0    0               0         0         0   0    0           0  \n",
      "4       0    0               0         0         0   1    0           0  \n",
      "\n",
      "[5 rows x 3002 columns]\n"
     ]
    }
   ],
   "source": [
    "print(data.head())"
   ]
  },
  {
   "cell_type": "code",
   "execution_count": 15,
   "id": "1a0e4985-074d-4335-b8b9-3f5241e7a635",
   "metadata": {},
   "outputs": [],
   "source": [
    "# Drop unnecessary columns if needed (like 'Email No.' if it has no predictive value)\n",
    "data = data.drop(columns=['Email No.'], errors='ignore')"
   ]
  },
  {
   "cell_type": "code",
   "execution_count": 16,
   "id": "a29250f2-3fe1-4797-a2fd-e67f6420d5b5",
   "metadata": {},
   "outputs": [],
   "source": [
    "# Separate features and target variable\n",
    "X = data.drop(columns=['Prediction'])\n",
    "y = data['Prediction']"
   ]
  },
  {
   "cell_type": "code",
   "execution_count": 17,
   "id": "a7f2295b-b3c8-409e-a180-275343b76c49",
   "metadata": {},
   "outputs": [],
   "source": [
    "# Split the dataset into training and testing sets\n",
    "X_train, X_test, y_train, y_test = train_test_split(X, y, test_size=0.2, random_state=42)"
   ]
  },
  {
   "cell_type": "code",
   "execution_count": 18,
   "id": "60a29e99-5401-4bc0-8ea8-9f4c45f9cce4",
   "metadata": {},
   "outputs": [],
   "source": [
    "# Standardize the feature data for better performance with SVM and KNN\n",
    "scaler = StandardScaler()\n",
    "X_train = scaler.fit_transform(X_train)\n",
    "X_test = scaler.transform(X_test)"
   ]
  },
  {
   "cell_type": "code",
   "execution_count": 19,
   "id": "3169d480-9a51-41e0-82c1-5079333e9bff",
   "metadata": {},
   "outputs": [],
   "source": [
    "# 1. K-Nearest Neighbors (KNN) Classifier\n",
    "knn = KNeighborsClassifier(n_neighbors=5)\n",
    "knn.fit(X_train, y_train)\n",
    "y_pred_knn = knn.predict(X_test)"
   ]
  },
  {
   "cell_type": "code",
   "execution_count": 20,
   "id": "3665ff0e-a4ab-4529-a363-8b44f9f7a56f",
   "metadata": {},
   "outputs": [
    {
     "name": "stdout",
     "output_type": "stream",
     "text": [
      "K-Nearest Neighbors (KNN) Performance:\n",
      "Accuracy: 0.8454106280193237\n",
      "Classification Report:\n",
      "               precision    recall  f1-score   support\n",
      "\n",
      "           0       0.98      0.80      0.88       739\n",
      "           1       0.66      0.95      0.78       296\n",
      "\n",
      "    accuracy                           0.85      1035\n",
      "   macro avg       0.82      0.88      0.83      1035\n",
      "weighted avg       0.89      0.85      0.85      1035\n",
      "\n",
      "Confusion Matrix:\n",
      " [[593 146]\n",
      " [ 14 282]]\n"
     ]
    }
   ],
   "source": [
    "# Evaluate KNN model\n",
    "print(\"K-Nearest Neighbors (KNN) Performance:\")\n",
    "print(\"Accuracy:\", accuracy_score(y_test, y_pred_knn))\n",
    "print(\"Classification Report:\\n\", classification_report(y_test, y_pred_knn))\n",
    "print(\"Confusion Matrix:\\n\", confusion_matrix(y_test, y_pred_knn))"
   ]
  },
  {
   "cell_type": "code",
   "execution_count": 21,
   "id": "ec42d525-824e-4eeb-8756-b19c42403d00",
   "metadata": {},
   "outputs": [],
   "source": [
    "# 2. Support Vector Machine (SVM) Classifier\n",
    "svm = SVC(kernel='linear', random_state=42)\n",
    "svm.fit(X_train, y_train)\n",
    "y_pred_svm = svm.predict(X_test)"
   ]
  },
  {
   "cell_type": "code",
   "execution_count": 22,
   "id": "8baf664f-9e23-444c-8086-8083efdbd5b5",
   "metadata": {},
   "outputs": [
    {
     "name": "stdout",
     "output_type": "stream",
     "text": [
      "Support Vector Machine (SVM) Performance:\n",
      "Accuracy: 0.9468599033816425\n",
      "Classification Report:\n",
      "               precision    recall  f1-score   support\n",
      "\n",
      "           0       0.97      0.96      0.96       739\n",
      "           1       0.90      0.92      0.91       296\n",
      "\n",
      "    accuracy                           0.95      1035\n",
      "   macro avg       0.93      0.94      0.94      1035\n",
      "weighted avg       0.95      0.95      0.95      1035\n",
      "\n",
      "Confusion Matrix:\n",
      " [[707  32]\n",
      " [ 23 273]]\n"
     ]
    }
   ],
   "source": [
    "# Evaluate SVM model\n",
    "print(\"Support Vector Machine (SVM) Performance:\")\n",
    "print(\"Accuracy:\", accuracy_score(y_test, y_pred_svm))\n",
    "print(\"Classification Report:\\n\", classification_report(y_test, y_pred_svm))\n",
    "print(\"Confusion Matrix:\\n\", confusion_matrix(y_test, y_pred_svm))"
   ]
  },
  {
   "cell_type": "markdown",
   "id": "7e1a9047-8dbc-49bb-ab77-e4afba2c0033",
   "metadata": {},
   "source": [
    "Explanation\n",
    "Data Preprocessing:\n",
    "We load the dataset and inspect it.\n",
    "The 'Email No.' column is dropped if it’s not useful for prediction.\n",
    "We separate features (X) and target variable (y).\n",
    "Data Splitting:\n",
    "We split the data into training and testing sets, reserving 20% of the data for testing.\n",
    "Feature Scaling:\n",
    "We standardize the features using StandardScaler to improve the performance of KNN and SVM.\n",
    "Model Training and Evaluation:\n",
    "K-Nearest Neighbors:\n",
    "We initialize and train a KNN classifier.\n",
    "We make predictions and evaluate its performance with accuracy, classification report, and confusion matrix.\n",
    "Support Vector Machine:\n",
    "We initialize and train an SVM classifier with a linear kernel.\n",
    "We make predictions and evaluate its performance similarly."
   ]
  }
 ],
 "metadata": {
  "kernelspec": {
   "display_name": "Python 3 (ipykernel)",
   "language": "python",
   "name": "python3"
  },
  "language_info": {
   "codemirror_mode": {
    "name": "ipython",
    "version": 3
   },
   "file_extension": ".py",
   "mimetype": "text/x-python",
   "name": "python",
   "nbconvert_exporter": "python",
   "pygments_lexer": "ipython3",
   "version": "3.12.3"
  }
 },
 "nbformat": 4,
 "nbformat_minor": 5
}
